{
 "cells": [
  {
   "cell_type": "markdown",
   "id": "7d8daf9d-a3b2-4614-a993-ef46478f6b90",
   "metadata": {},
   "source": [
    "# Deep Learning with Tensorflow"
   ]
  },
  {
   "cell_type": "code",
   "execution_count": 2,
   "id": "11fc5698-ee48-444a-ae45-52c82c819946",
   "metadata": {},
   "outputs": [
    {
     "name": "stdout",
     "output_type": "stream",
     "text": [
      "Tensorflow version: 2.19.0\n"
     ]
    }
   ],
   "source": [
    "import tensorflow as tf\n",
    "print(f\"Tensorflow version: {tf.__version__}\")"
   ]
  },
  {
   "cell_type": "markdown",
   "id": "5aa44412-a99d-40b4-bf66-e6f8aa3ca1ff",
   "metadata": {},
   "source": [
    "### We shall use the [MNIST](https://en.wikipedia.org/wiki/MNIST_database) dataset to train our Machine Learning model"
   ]
  },
  {
   "cell_type": "markdown",
   "id": "c301adc0-1208-4914-8168-4326209281b6",
   "metadata": {},
   "source": [
    "MNIST dataset contains hand-written digits from 0 t0 9. The training and test datasets have 60,000 and 10,000 images respectively, and they are classified based on the digit they represent. We shall use the Keras API to fetch the dataset."
   ]
  },
  {
   "cell_type": "code",
   "execution_count": 3,
   "id": "9abbdda6-7a6c-4608-9d6e-b2e25232de09",
   "metadata": {},
   "outputs": [],
   "source": [
    "train_data, test_data = tf.keras.datasets.mnist.load_data()\n",
    "\n",
    "# Split the data into features and labels.\n",
    "X_train, y_train = train_data\n",
    "X_test, y_test = test_data"
   ]
  },
  {
   "cell_type": "markdown",
   "id": "f9c98b08-4b24-485d-ac8d-ec3b40c2f0e6",
   "metadata": {},
   "source": [
    "Let us inspect 9 random images from the training set"
   ]
  },
  {
   "cell_type": "code",
   "execution_count": 4,
   "id": "5711f37b-f0ab-4a8c-a9fd-ab4a02cb1cb1",
   "metadata": {},
   "outputs": [
    {
     "data": {
      "image/png": "[encoded data removed]",
      "text/plain": [
       "<Figure size 500x500 with 9 Axes>"
      ]
     },
     "metadata": {},
     "output_type": "display_data"
    }
   ],
   "source": [
    "import numpy as np\n",
    "\n",
    "indices = np.random.randint(0, X_train.shape[0], size=9)\n",
    "\n",
    "images = X_train[indices]\n",
    "labels = y_train[indices]\n",
    "\n",
    "# Plot the images.\n",
    "import matplotlib.pyplot as plt\n",
    "\n",
    "plt.figure(figsize=(5,5))\n",
    "for i in range(indices.size):\n",
    "    plt.subplot(3, 3, i+1)\n",
    "    image = images[i]\n",
    "    plt.imshow(image, cmap=\"gray\")\n",
    "    plt.axis(\"off\")"
   ]
  },
  {
   "cell_type": "markdown",
   "id": "70eeaa32-881b-4e32-ae83-4215bc2c4485",
   "metadata": {},
   "source": [
    "The images correspond to the following labels."
   ]
  },
  {
   "cell_type": "code",
   "execution_count": 5,
   "id": "01da3306-c894-40c6-9cd3-6debd05391d3",
   "metadata": {},
   "outputs": [
    {
     "name": "stdout",
     "output_type": "stream",
     "text": [
      "[[1 5 1]\n",
      " [1 8 5]\n",
      " [5 0 5]]\n"
     ]
    }
   ],
   "source": [
    "print(labels.reshape(3,3))"
   ]
  },
  {
   "cell_type": "markdown",
   "id": "18528c68-cdd9-4985-bb63-d2e723e86c84",
   "metadata": {},
   "source": [
    "### Data Preprocessing"
   ]
  },
  {
   "cell_type": "markdown",
   "id": "1d19af0c-5331-45e7-b700-c7ca8c8d9021",
   "metadata": {},
   "source": [
    "Let us One-Hot encode the labels to a 10 dimensional vector"
   ]
  },
  {
   "cell_type": "code",
   "execution_count": 6,
   "id": "36ef7d54-363c-4796-a4d0-60434d84ff70",
   "metadata": {},
   "outputs": [
    {
     "name": "stdout",
     "output_type": "stream",
     "text": [
      "Before encoding: y_train[42] = 7.\n",
      "After encoding: y_train[42] = [0. 0. 0. 0. 0. 0. 0. 1. 0. 0.].\n"
     ]
    }
   ],
   "source": [
    "from keras.utils import to_categorical\n",
    "\n",
    "idx = 42\n",
    "\n",
    "print(f\"Before encoding: y_train[{idx}] = {y_train[idx]}.\")\n",
    "\n",
    "y_train = to_categorical(y_train)\n",
    "\n",
    "print(f\"After encoding: y_train[{idx}] = {y_train[idx]}.\")"
   ]
  },
  {
   "cell_type": "markdown",
   "id": "15c05906-81e4-4384-9f27-d4d55a4bf287",
   "metadata": {},
   "source": [
    "Also encode the test labels:"
   ]
  },
  {
   "cell_type": "code",
   "execution_count": 7,
   "id": "e64a074f-12a0-4817-9a43-278faef4679c",
   "metadata": {},
   "outputs": [],
   "source": [
    "y_test = to_categorical(y_test)"
   ]
  },
  {
   "cell_type": "markdown",
   "id": "5642598f-0562-4aee-8b2c-8d586d68ff1b",
   "metadata": {},
   "source": [
    "Find the dimensions of an image."
   ]
  },
  {
   "cell_type": "code",
   "execution_count": 8,
   "id": "0b831aae-f36d-4671-b317-50985d563f1e",
   "metadata": {},
   "outputs": [
    {
     "data": {
      "text/plain": [
       "(28, 28)"
      ]
     },
     "execution_count": 8,
     "metadata": {},
     "output_type": "execute_result"
    }
   ],
   "source": [
    "image_size = X_train[0].shape\n",
    "image_size"
   ]
  },
  {
   "cell_type": "markdown",
   "id": "e7e15b9e-2206-4f52-9de9-c70fbe3a7a29",
   "metadata": {},
   "source": [
    "The input size to the first Keras Dense layer is given by image_width $\\times$ image_height."
   ]
  },
  {
   "cell_type": "code",
   "execution_count": 9,
   "id": "b06e6baf-eb3a-4b3f-840d-86ae47ae19e7",
   "metadata": {},
   "outputs": [],
   "source": [
    "input_size = image_size[0] ** 2 # height == width for these images."
   ]
  },
  {
   "cell_type": "markdown",
   "id": "419be1f5-2e2f-4698-8591-5740b2aef31a",
   "metadata": {},
   "source": [
    "Resize the feature datasets. "
   ]
  },
  {
   "cell_type": "code",
   "execution_count": 11,
   "id": "531da9a1-3d2e-444b-838d-67a6b5555777",
   "metadata": {},
   "outputs": [],
   "source": [
    "input_shape = (-1, input_size)\n",
    "\n",
    "X_train.shape, X_test.shape = input_shape, input_shape\n",
    "\n",
    "# Scale the pixel values from 0 to 255 into the range 0 to 1.\n",
    "X_train, X_test = X_train/255, X_test/255"
   ]
  }
 ],
 "metadata": {
  "kernelspec": {
   "display_name": "Python 3 (ipykernel)",
   "language": "python",
   "name": "python3"
  },
  "language_info": {
   "codemirror_mode": {
    "name": "ipython",
    "version": 3
   },
   "file_extension": ".py",
   "mimetype": "text/x-python",
   "name": "python",
   "nbconvert_exporter": "python",
   "pygments_lexer": "ipython3",
   "version": "3.12.9"
  }
 },
 "nbformat": 4,
 "nbformat_minor": 5
}
