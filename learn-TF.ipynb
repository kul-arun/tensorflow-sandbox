{
 "cells": [
  {
   "cell_type": "markdown",
   "id": "7d8daf9d-a3b2-4614-a993-ef46478f6b90",
   "metadata": {},
   "source": [
    "# Deep Learning with Tensorflow"
   ]
  },
  {
   "cell_type": "code",
   "execution_count": 2,
   "id": "11fc5698-ee48-444a-ae45-52c82c819946",
   "metadata": {},
   "outputs": [
    {
     "name": "stdout",
     "output_type": "stream",
     "text": [
      "Tensorflow version: 2.19.0\n"
     ]
    }
   ],
   "source": [
    "import tensorflow as tf\n",
    "print(f\"Tensorflow version: {tf.__version__}\")"
   ]
  },
  {
   "cell_type": "markdown",
   "id": "5aa44412-a99d-40b4-bf66-e6f8aa3ca1ff",
   "metadata": {},
   "source": [
    "### We shall use the [MNIST](https://en.wikipedia.org/wiki/MNIST_database) dataset to train our Machine Learning model"
   ]
  },
  {
   "cell_type": "markdown",
   "id": "c301adc0-1208-4914-8168-4326209281b6",
   "metadata": {},
   "source": [
    "MNIST dataset contains hand-written digits from 0 t0 9. The training and test datasets have 60,000 and 10,000 images respectively, and they are classified based on the digit they represent. We shall use the Keras API to fetch the dataset."
   ]
  },
  {
   "cell_type": "code",
   "execution_count": 3,
   "id": "9abbdda6-7a6c-4608-9d6e-b2e25232de09",
   "metadata": {},
   "outputs": [],
   "source": [
    "train_data, test_data = tf.keras.datasets.mnist.load_data()\n",
    "\n",
    "# Split the data into features and labels.\n",
    "X_train, y_train = train_data\n",
    "X_test, y_test = test_data"
   ]
  },
  {
   "cell_type": "markdown",
   "id": "f9c98b08-4b24-485d-ac8d-ec3b40c2f0e6",
   "metadata": {},
   "source": [
    "Let us inspect 9 random images from the training set"
   ]
  },
  {
   "cell_type": "code",
   "execution_count": 4,
   "id": "5711f37b-f0ab-4a8c-a9fd-ab4a02cb1cb1",
   "metadata": {},
   "outputs": [
    {
     "data": {
      "image/png": "[encoded data removed]",
      "text/plain": [
       "<Figure size 500x500 with 9 Axes>"
      ]
     },
     "metadata": {},
     "output_type": "display_data"
    }
   ],
   "source": [
    "import numpy as np\n",
    "\n",
    "indices = np.random.randint(0, X_train.shape[0], size=9)\n",
    "\n",
    "images = X_train[indices]\n",
    "labels = y_train[indices]\n",
    "\n",
    "# Plot the images.\n",
    "import matplotlib.pyplot as plt\n",
    "\n",
    "plt.figure(figsize=(5,5))\n",
    "for i in range(indices.size):\n",
    "    plt.subplot(3, 3, i+1)\n",
    "    image = images[i]\n",
    "    plt.imshow(image, cmap=\"gray\")\n",
    "    plt.axis(\"off\")"
   ]
  },
  {
   "cell_type": "markdown",
   "id": "70eeaa32-881b-4e32-ae83-4215bc2c4485",
   "metadata": {},
   "source": [
    "The images correspond to the following labels."
   ]
  },
  {
   "cell_type": "code",
   "execution_count": 5,
   "id": "01da3306-c894-40c6-9cd3-6debd05391d3",
   "metadata": {},
   "outputs": [
    {
     "name": "stdout",
     "output_type": "stream",
     "text": [
      "[[4 1 1]\n",
      " [6 7 0]\n",
      " [1 6 4]]\n"
     ]
    }
   ],
   "source": [
    "print(labels.reshape(3,3))"
   ]
  },
  {
   "cell_type": "markdown",
   "id": "18528c68-cdd9-4985-bb63-d2e723e86c84",
   "metadata": {},
   "source": [
    "### Data Preprocessing"
   ]
  },
  {
   "cell_type": "markdown",
   "id": "1d19af0c-5331-45e7-b700-c7ca8c8d9021",
   "metadata": {},
   "source": [
    "Let us One-Hot encode the labels to a 10 dimensional vector"
   ]
  },
  {
   "cell_type": "code",
   "execution_count": 6,
   "id": "36ef7d54-363c-4796-a4d0-60434d84ff70",
   "metadata": {},
   "outputs": [
    {
     "name": "stdout",
     "output_type": "stream",
     "text": [
      "Before encoding: y_train[42] = 7.\n",
      "After encoding: y_train[42] = [0. 0. 0. 0. 0. 0. 0. 1. 0. 0.].\n"
     ]
    }
   ],
   "source": [
    "from keras.utils import to_categorical\n",
    "\n",
    "idx = 42\n",
    "\n",
    "print(f\"Before encoding: y_train[{idx}] = {y_train[idx]}.\")\n",
    "\n",
    "y_train = to_categorical(y_train)\n",
    "\n",
    "print(f\"After encoding: y_train[{idx}] = {y_train[idx]}.\")"
   ]
  },
  {
   "cell_type": "markdown",
   "id": "15c05906-81e4-4384-9f27-d4d55a4bf287",
   "metadata": {},
   "source": [
    "Also encode the test labels:"
   ]
  },
  {
   "cell_type": "code",
   "execution_count": 7,
   "id": "e64a074f-12a0-4817-9a43-278faef4679c",
   "metadata": {},
   "outputs": [],
   "source": [
    "y_test = to_categorical(y_test)"
   ]
  },
  {
   "cell_type": "markdown",
   "id": "5642598f-0562-4aee-8b2c-8d586d68ff1b",
   "metadata": {},
   "source": [
    "Find the dimensions of an image."
   ]
  },
  {
   "cell_type": "code",
   "execution_count": 8,
   "id": "0b831aae-f36d-4671-b317-50985d563f1e",
   "metadata": {},
   "outputs": [
    {
     "data": {
      "text/plain": [
       "(28, 28)"
      ]
     },
     "execution_count": 8,
     "metadata": {},
     "output_type": "execute_result"
    }
   ],
   "source": [
    "image_size = X_train[0].shape\n",
    "image_size"
   ]
  },
  {
   "cell_type": "markdown",
   "id": "419be1f5-2e2f-4698-8591-5740b2aef31a",
   "metadata": {},
   "source": [
    "Scale the pixel values from 0 to 255 into the range 0 to 1."
   ]
  },
  {
   "cell_type": "code",
   "execution_count": 9,
   "id": "531da9a1-3d2e-444b-838d-67a6b5555777",
   "metadata": {},
   "outputs": [],
   "source": [
    "X_train, X_test = X_train/255, X_test/255"
   ]
  },
  {
   "cell_type": "markdown",
   "id": "4a7767eb-910f-4ded-9e46-5111cc8eaecb",
   "metadata": {},
   "source": [
    "### Training the Machine Learning model"
   ]
  },
  {
   "cell_type": "markdown",
   "id": "8a7f6bb3-4066-4ad3-8444-c5675d80b052",
   "metadata": {},
   "source": [
    "We create a basic neural network using the Keras API of the Tensorflow framework, using the `Sequential` class."
   ]
  },
  {
   "cell_type": "code",
   "execution_count": 11,
   "id": "a29189f2-3c73-46cf-b4d4-f7105e97da27",
   "metadata": {},
   "outputs": [],
   "source": [
    "model = tf.keras.models.Sequential([\n",
    "  tf.keras.layers.Flatten(input_shape=image_size),\n",
    "  tf.keras.layers.Dense(256, activation=\"relu\"),\n",
    "  tf.keras.layers.Dropout(0.45),\n",
    "  tf.keras.layers.Dense(10, activation=\"softmax\") # 10 label classes\n",
    "])"
   ]
  },
  {
   "cell_type": "markdown",
   "id": "0fc8c95f-b075-4cc2-9b8b-1595c78b2144",
   "metadata": {},
   "source": [
    "Inspect the model."
   ]
  },
  {
   "cell_type": "code",
   "execution_count": 14,
   "id": "12dbcb5f-88fe-4f8f-9201-297f5283b307",
   "metadata": {},
   "outputs": [
    {
     "data": {
      "text/html": [
       "<pre style=\"white-space:pre;overflow-x:auto;line-height:normal;font-family:Menlo,'DejaVu Sans Mono',consolas,'Courier New',monospace\"><span style=\"font-weight: bold\">Model: \"sequential_1\"</span>\n",
       "</pre>\n"
      ],
      "text/plain": [
       "\u001b[1mModel: \"sequential_1\"\u001b[0m\n"
      ]
     },
     "metadata": {},
     "output_type": "display_data"
    },
    {
     "data": {
      "text/html": [
       "<pre style=\"white-space:pre;overflow-x:auto;line-height:normal;font-family:Menlo,'DejaVu Sans Mono',consolas,'Courier New',monospace\">┏━━━━━━━━━━━━━━━━━━━━━━━━━━━━━━━━━┳━━━━━━━━━━━━━━━━━━━━━━━━┳━━━━━━━━━━━━━━━┓\n",
       "┃<span style=\"font-weight: bold\"> Layer (type)                    </span>┃<span style=\"font-weight: bold\"> Output Shape           </span>┃<span style=\"font-weight: bold\">       Param # </span>┃\n",
       "┡━━━━━━━━━━━━━━━━━━━━━━━━━━━━━━━━━╇━━━━━━━━━━━━━━━━━━━━━━━━╇━━━━━━━━━━━━━━━┩\n",
       "│ flatten_1 (<span style=\"color: #0087ff; text-decoration-color: #0087ff\">Flatten</span>)             │ (<span style=\"color: #00d7ff; text-decoration-color: #00d7ff\">None</span>, <span style=\"color: #00af00; text-decoration-color: #00af00\">784</span>)            │             <span style=\"color: #00af00; text-decoration-color: #00af00\">0</span> │\n",
       "├─────────────────────────────────┼────────────────────────┼───────────────┤\n",
       "│ dense_2 (<span style=\"color: #0087ff; text-decoration-color: #0087ff\">Dense</span>)                 │ (<span style=\"color: #00d7ff; text-decoration-color: #00d7ff\">None</span>, <span style=\"color: #00af00; text-decoration-color: #00af00\">256</span>)            │       <span style=\"color: #00af00; text-decoration-color: #00af00\">200,960</span> │\n",
       "├─────────────────────────────────┼────────────────────────┼───────────────┤\n",
       "│ dropout_1 (<span style=\"color: #0087ff; text-decoration-color: #0087ff\">Dropout</span>)             │ (<span style=\"color: #00d7ff; text-decoration-color: #00d7ff\">None</span>, <span style=\"color: #00af00; text-decoration-color: #00af00\">256</span>)            │             <span style=\"color: #00af00; text-decoration-color: #00af00\">0</span> │\n",
       "├─────────────────────────────────┼────────────────────────┼───────────────┤\n",
       "│ dense_3 (<span style=\"color: #0087ff; text-decoration-color: #0087ff\">Dense</span>)                 │ (<span style=\"color: #00d7ff; text-decoration-color: #00d7ff\">None</span>, <span style=\"color: #00af00; text-decoration-color: #00af00\">10</span>)             │         <span style=\"color: #00af00; text-decoration-color: #00af00\">2,570</span> │\n",
       "└─────────────────────────────────┴────────────────────────┴───────────────┘\n",
       "</pre>\n"
      ],
      "text/plain": [
       "┏━━━━━━━━━━━━━━━━━━━━━━━━━━━━━━━━━┳━━━━━━━━━━━━━━━━━━━━━━━━┳━━━━━━━━━━━━━━━┓\n",
       "┃\u001b[1m \u001b[0m\u001b[1mLayer (type)                   \u001b[0m\u001b[1m \u001b[0m┃\u001b[1m \u001b[0m\u001b[1mOutput Shape          \u001b[0m\u001b[1m \u001b[0m┃\u001b[1m \u001b[0m\u001b[1m      Param #\u001b[0m\u001b[1m \u001b[0m┃\n",
       "┡━━━━━━━━━━━━━━━━━━━━━━━━━━━━━━━━━╇━━━━━━━━━━━━━━━━━━━━━━━━╇━━━━━━━━━━━━━━━┩\n",
       "│ flatten_1 (\u001b[38;5;33mFlatten\u001b[0m)             │ (\u001b[38;5;45mNone\u001b[0m, \u001b[38;5;34m784\u001b[0m)            │             \u001b[38;5;34m0\u001b[0m │\n",
       "├─────────────────────────────────┼────────────────────────┼───────────────┤\n",
       "│ dense_2 (\u001b[38;5;33mDense\u001b[0m)                 │ (\u001b[38;5;45mNone\u001b[0m, \u001b[38;5;34m256\u001b[0m)            │       \u001b[38;5;34m200,960\u001b[0m │\n",
       "├─────────────────────────────────┼────────────────────────┼───────────────┤\n",
       "│ dropout_1 (\u001b[38;5;33mDropout\u001b[0m)             │ (\u001b[38;5;45mNone\u001b[0m, \u001b[38;5;34m256\u001b[0m)            │             \u001b[38;5;34m0\u001b[0m │\n",
       "├─────────────────────────────────┼────────────────────────┼───────────────┤\n",
       "│ dense_3 (\u001b[38;5;33mDense\u001b[0m)                 │ (\u001b[38;5;45mNone\u001b[0m, \u001b[38;5;34m10\u001b[0m)             │         \u001b[38;5;34m2,570\u001b[0m │\n",
       "└─────────────────────────────────┴────────────────────────┴───────────────┘\n"
      ]
     },
     "metadata": {},
     "output_type": "display_data"
    },
    {
     "data": {
      "text/html": [
       "<pre style=\"white-space:pre;overflow-x:auto;line-height:normal;font-family:Menlo,'DejaVu Sans Mono',consolas,'Courier New',monospace\"><span style=\"font-weight: bold\"> Total params: </span><span style=\"color: #00af00; text-decoration-color: #00af00\">203,530</span> (795.04 KB)\n",
       "</pre>\n"
      ],
      "text/plain": [
       "\u001b[1m Total params: \u001b[0m\u001b[38;5;34m203,530\u001b[0m (795.04 KB)\n"
      ]
     },
     "metadata": {},
     "output_type": "display_data"
    },
    {
     "data": {
      "text/html": [
       "<pre style=\"white-space:pre;overflow-x:auto;line-height:normal;font-family:Menlo,'DejaVu Sans Mono',consolas,'Courier New',monospace\"><span style=\"font-weight: bold\"> Trainable params: </span><span style=\"color: #00af00; text-decoration-color: #00af00\">203,530</span> (795.04 KB)\n",
       "</pre>\n"
      ],
      "text/plain": [
       "\u001b[1m Trainable params: \u001b[0m\u001b[38;5;34m203,530\u001b[0m (795.04 KB)\n"
      ]
     },
     "metadata": {},
     "output_type": "display_data"
    },
    {
     "data": {
      "text/html": [
       "<pre style=\"white-space:pre;overflow-x:auto;line-height:normal;font-family:Menlo,'DejaVu Sans Mono',consolas,'Courier New',monospace\"><span style=\"font-weight: bold\"> Non-trainable params: </span><span style=\"color: #00af00; text-decoration-color: #00af00\">0</span> (0.00 B)\n",
       "</pre>\n"
      ],
      "text/plain": [
       "\u001b[1m Non-trainable params: \u001b[0m\u001b[38;5;34m0\u001b[0m (0.00 B)\n"
      ]
     },
     "metadata": {},
     "output_type": "display_data"
    }
   ],
   "source": [
    "model.summary()"
   ]
  },
  {
   "cell_type": "code",
   "execution_count": null,
   "id": "a4be57c3-8373-432e-b6b2-8f4d6ac39eb7",
   "metadata": {},
   "outputs": [],
   "source": []
  }
 ],
 "metadata": {
  "kernelspec": {
   "display_name": "Python 3 (ipykernel)",
   "language": "python",
   "name": "python3"
  },
  "language_info": {
   "codemirror_mode": {
    "name": "ipython",
    "version": 3
   },
   "file_extension": ".py",
   "mimetype": "text/x-python",
   "name": "python",
   "nbconvert_exporter": "python",
   "pygments_lexer": "ipython3",
   "version": "3.12.9"
  }
 },
 "nbformat": 4,
 "nbformat_minor": 5
}
